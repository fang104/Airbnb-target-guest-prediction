{
 "cells": [
  {
   "cell_type": "code",
   "execution_count": 2,
   "metadata": {},
   "outputs": [],
   "source": [
    "import pandas as pd\n",
    "import numpy as np\n",
    "import os\n",
    "os.chdir('C:\\\\Users\\\\fangc\\\\Documents\\\\airbnb\\\\Airbnb Project')\n",
    "import matplotlib.pyplot as plt\n",
    "%matplotlib inline"
   ]
  },
  {
   "cell_type": "code",
   "execution_count": 3,
   "metadata": {},
   "outputs": [],
   "source": [
    "df=pd.read_csv('clean_data.csv')"
   ]
  },
  {
   "cell_type": "code",
   "execution_count": 299,
   "metadata": {},
   "outputs": [
    {
     "data": {
      "text/html": [
       "<div>\n",
       "<style scoped>\n",
       "    .dataframe tbody tr th:only-of-type {\n",
       "        vertical-align: middle;\n",
       "    }\n",
       "\n",
       "    .dataframe tbody tr th {\n",
       "        vertical-align: top;\n",
       "    }\n",
       "\n",
       "    .dataframe thead th {\n",
       "        text-align: right;\n",
       "    }\n",
       "</style>\n",
       "<table border=\"1\" class=\"dataframe\">\n",
       "  <thead>\n",
       "    <tr style=\"text-align: right;\">\n",
       "      <th></th>\n",
       "      <th>Confirmation code</th>\n",
       "      <th>Status</th>\n",
       "      <th>Guest name</th>\n",
       "      <th>Contact</th>\n",
       "      <th># of adults</th>\n",
       "      <th>Start date</th>\n",
       "      <th>End date</th>\n",
       "      <th># of nights</th>\n",
       "      <th>Booked</th>\n",
       "      <th>Booked_aheadday</th>\n",
       "      <th>Listing</th>\n",
       "      <th>Earnings</th>\n",
       "      <th>Bad</th>\n",
       "      <th>review</th>\n",
       "      <th>text</th>\n",
       "      <th>Text_counts</th>\n",
       "      <th>day_of_week_checkin</th>\n",
       "      <th>day_of_week_checkout</th>\n",
       "      <th>book_day_of_week</th>\n",
       "      <th>size</th>\n",
       "    </tr>\n",
       "  </thead>\n",
       "  <tbody>\n",
       "    <tr>\n",
       "      <th>0</th>\n",
       "      <td>HMQM5YMPQC</td>\n",
       "      <td>Confirmed</td>\n",
       "      <td>Lukasz Majewski</td>\n",
       "      <td>'+48 793 641 008</td>\n",
       "      <td>2</td>\n",
       "      <td>2017-12-17</td>\n",
       "      <td>2018-02-28</td>\n",
       "      <td>73</td>\n",
       "      <td>2017-12-04</td>\n",
       "      <td>13</td>\n",
       "      <td>FULLY Furnished Silicon Valley Studio House</td>\n",
       "      <td>4764.41</td>\n",
       "      <td>0</td>\n",
       "      <td>1</td>\n",
       "      <td>I'm a Tesla contractor and I need a place to s...</td>\n",
       "      <td>38</td>\n",
       "      <td>Sunday</td>\n",
       "      <td>Wednesday</td>\n",
       "      <td>Monday</td>\n",
       "      <td>small</td>\n",
       "    </tr>\n",
       "    <tr>\n",
       "      <th>1</th>\n",
       "      <td>HM33MPJPAH</td>\n",
       "      <td>Confirmed</td>\n",
       "      <td>Betty Tse</td>\n",
       "      <td>'+1 (650) 996-3949</td>\n",
       "      <td>2</td>\n",
       "      <td>2017-12-18</td>\n",
       "      <td>2018-01-01</td>\n",
       "      <td>14</td>\n",
       "      <td>2017-11-14</td>\n",
       "      <td>34</td>\n",
       "      <td>Silicon Valley Entire Clean Modern 2B/2B Apart...</td>\n",
       "      <td>2227.12</td>\n",
       "      <td>0</td>\n",
       "      <td>1</td>\n",
       "      <td>We would like to know whether you have 2 parki...</td>\n",
       "      <td>18</td>\n",
       "      <td>Monday</td>\n",
       "      <td>Monday</td>\n",
       "      <td>Tuesday</td>\n",
       "      <td>middle</td>\n",
       "    </tr>\n",
       "  </tbody>\n",
       "</table>\n",
       "</div>"
      ],
      "text/plain": [
       "  Confirmation code     Status       Guest name             Contact  \\\n",
       "0        HMQM5YMPQC  Confirmed  Lukasz Majewski    '+48 793 641 008   \n",
       "1        HM33MPJPAH  Confirmed        Betty Tse  '+1 (650) 996-3949   \n",
       "\n",
       "   # of adults Start date   End date  # of nights     Booked  Booked_aheadday  \\\n",
       "0            2 2017-12-17 2018-02-28           73 2017-12-04               13   \n",
       "1            2 2017-12-18 2018-01-01           14 2017-11-14               34   \n",
       "\n",
       "                                             Listing  Earnings  Bad  review  \\\n",
       "0        FULLY Furnished Silicon Valley Studio House   4764.41    0       1   \n",
       "1  Silicon Valley Entire Clean Modern 2B/2B Apart...   2227.12    0       1   \n",
       "\n",
       "                                                text  Text_counts  \\\n",
       "0  I'm a Tesla contractor and I need a place to s...           38   \n",
       "1  We would like to know whether you have 2 parki...           18   \n",
       "\n",
       "  day_of_week_checkin day_of_week_checkout book_day_of_week    size  \n",
       "0              Sunday            Wednesday           Monday   small  \n",
       "1              Monday               Monday          Tuesday  middle  "
      ]
     },
     "execution_count": 299,
     "metadata": {},
     "output_type": "execute_result"
    }
   ],
   "source": [
    "df.head(2)"
   ]
  },
  {
   "cell_type": "markdown",
   "metadata": {},
   "source": [
    "# Implementation: Data Exploration\n",
    "A cursory investigation of the dataset will determine how many individuals fit into either group( good or bad)"
   ]
  },
  {
   "cell_type": "code",
   "execution_count": 5,
   "metadata": {},
   "outputs": [],
   "source": [
    "# total number of records \n",
    "n_records=len(df)\n",
    "# total number of good guests\n",
    "n_good=len(df[df.Bad == 0])\n",
    "# total number of bad guests\n",
    "n_bad=len(df[df.Bad == 1])\n",
    "# Percentage of individuals whose are bad guests\n",
    "bad_percent =100* n_bad/(n_bad+n_good)"
   ]
  },
  {
   "cell_type": "code",
   "execution_count": 6,
   "metadata": {},
   "outputs": [
    {
     "name": "stdout",
     "output_type": "stream",
     "text": [
      "Total number of records: 362\n",
      "good guests: 331\n",
      "bad guests: 31\n",
      "Percentage of bad guests: 8.56353591160221%\n"
     ]
    }
   ],
   "source": [
    "# Print the results\n",
    "print(\"Total number of records: {}\".format(n_records))\n",
    "print(\"good guests: {}\".format(n_good))\n",
    "print(\"bad guests: {}\".format(n_bad))\n",
    "print(\"Percentage of bad guests: {}%\".format(bad_percent))"
   ]
  },
  {
   "cell_type": "code",
   "execution_count": 9,
   "metadata": {},
   "outputs": [
    {
     "name": "stdout",
     "output_type": "stream",
     "text": [
      "<class 'pandas.core.frame.DataFrame'>\n",
      "RangeIndex: 362 entries, 0 to 361\n",
      "Data columns (total 20 columns):\n",
      "Confirmation code       362 non-null object\n",
      "Status                  362 non-null object\n",
      "Guest name              362 non-null object\n",
      "Contact                 362 non-null object\n",
      "# of adults             362 non-null int64\n",
      "Start date              362 non-null datetime64[ns]\n",
      "End date                362 non-null datetime64[ns]\n",
      "# of nights             362 non-null int64\n",
      "Booked                  362 non-null datetime64[ns]\n",
      "Booked_aheadday         362 non-null int64\n",
      "Listing                 362 non-null object\n",
      "Earnings                362 non-null float64\n",
      "Bad                     362 non-null int64\n",
      "review                  362 non-null int64\n",
      "text                    362 non-null object\n",
      "Text_counts             362 non-null int64\n",
      "day_of_week_checkin     362 non-null object\n",
      "day_of_week_checkout    362 non-null object\n",
      "book_day_of_week        362 non-null object\n",
      "size                    341 non-null object\n",
      "dtypes: datetime64[ns](3), float64(1), int64(6), object(10)\n",
      "memory usage: 56.6+ KB\n"
     ]
    }
   ],
   "source": [
    "df.info()"
   ]
  },
  {
   "cell_type": "code",
   "execution_count": 8,
   "metadata": {},
   "outputs": [],
   "source": [
    "# change data type\n",
    "df['Start date']=pd.to_datetime(df['Start date'])\n",
    "df['End date']=pd.to_datetime(df['End date'])\n",
    "df['Booked']=pd.to_datetime(df['Booked'])"
   ]
  },
  {
   "cell_type": "markdown",
   "metadata": {},
   "source": [
    "** Featureset Exploration **"
   ]
  },
  {
   "cell_type": "markdown",
   "metadata": {},
   "source": [
    "* **Status** : Confirmed \n",
    "* **Guest name** : Guest name\n",
    "* **Contact**:guests contact information\n",
    "* **# of adults**:discrete\n",
    "* **# of nights**:discrete\n",
    "* **Start date** : datetime\n",
    "* **End date** :datetime\n",
    "* **Booked** :datetime\n",
    "* **Booked_aheadday** :discrete\n",
    "* **Listing** : listing name\n",
    "* **Earnings** :continuous\n",
    "* **review** :discrete\n",
    "* **text** :first message from guests\n",
    "* **Text_counts**:discrete\n",
    "* **day_of_week_checkin**: day of week\n",
    "* **day_of_week_checkout**: day of week\n",
    "* **book_day_of_week**: day of week\n",
    "* **size**:small,middle,large\n",
    "* **Bad** :0(good),1(bad)"
   ]
  },
  {
   "cell_type": "markdown",
   "metadata": {},
   "source": [
    "## Preparing the Data"
   ]
  },
  {
   "cell_type": "markdown",
   "metadata": {},
   "source": [
    "*Before data can be used as input for machine learning algorithms, it often must be cleaned, formatted, and restructured — this is typically known as preprocessing.*"
   ]
  },
  {
   "cell_type": "markdown",
   "metadata": {},
   "source": [
    "### Transforming Skewed Continuous Features"
   ]
  },
  {
   "cell_type": "code",
   "execution_count": 12,
   "metadata": {},
   "outputs": [
    {
     "data": {
      "text/plain": [
       "(array([73., 79., 62., 46., 31., 20., 13.,  8.,  4.,  5.,  3.,  1.,  5.,\n",
       "         3.,  1.,  0.,  2.,  0.,  2.,  0.,  0.,  0.,  1.,  0.,  0.,  0.,\n",
       "         1.,  1.,  0.,  1.]),\n",
       " array([  67.9       ,  224.45033333,  381.00066667,  537.551     ,\n",
       "         694.10133333,  850.65166667, 1007.202     , 1163.75233333,\n",
       "        1320.30266667, 1476.853     , 1633.40333333, 1789.95366667,\n",
       "        1946.504     , 2103.05433333, 2259.60466667, 2416.155     ,\n",
       "        2572.70533333, 2729.25566667, 2885.806     , 3042.35633333,\n",
       "        3198.90666667, 3355.457     , 3512.00733333, 3668.55766667,\n",
       "        3825.108     , 3981.65833333, 4138.20866667, 4294.759     ,\n",
       "        4451.30933333, 4607.85966667, 4764.41      ]),\n",
       " <a list of 30 Patch objects>)"
      ]
     },
     "execution_count": 12,
     "metadata": {},
     "output_type": "execute_result"
    },
    {
     "data": {
      "image/png": "[encoded data removed]",
      "text/plain": [
       "<Figure size 432x288 with 1 Axes>"
      ]
     },
     "metadata": {},
     "output_type": "display_data"
    }
   ],
   "source": [
    "# plot the earnings in histogram\n",
    "plt.hist(df.Earnings,bins=30)"
   ]
  },
  {
   "cell_type": "code",
   "execution_count": 14,
   "metadata": {},
   "outputs": [],
   "source": [
    "# Split the data into features and target label\n",
    "target = df.Bad\n",
    "features_raw = df.drop('Bad', axis = 1)\n",
    "# Log-transform the skewed features\n",
    "skewed = 'Earnings'\n",
    "features_log_transformed = pd.DataFrame(data = features_raw)\n",
    "features_log_transformed[skewed] = features_raw[skewed].apply(lambda x: np.log(x + 1))"
   ]
  },
  {
   "cell_type": "markdown",
   "metadata": {},
   "source": [
    "## Normalizing Numerical Features"
   ]
  },
  {
   "cell_type": "markdown",
   "metadata": {},
   "source": [
    "*since we have some numerical features that are highly skewed. we need to treat equally when applying supervised learners.*"
   ]
  },
  {
   "cell_type": "code",
   "execution_count": 19,
   "metadata": {},
   "outputs": [],
   "source": [
    "# Import sklearn.preprocessing.StandardScaler\n",
    "from sklearn.preprocessing import MinMaxScaler\n",
    "\n",
    "# Initialize a scaler, then apply it to the features\n",
    "scaler = MinMaxScaler() # default=(0, 1)\n",
    "numerical = ['# of adults', '# of nights', 'Booked_aheadday', 'review', 'Text_counts']\n",
    "\n",
    "features_log_minmax_transform = pd.DataFrame(data = features_log_transformed)\n",
    "features_log_minmax_transform[numerical] = scaler.fit_transform(features_log_transformed[numerical])"
   ]
  },
  {
   "cell_type": "code",
   "execution_count": 20,
   "metadata": {},
   "outputs": [
    {
     "data": {
      "text/html": [
       "<div>\n",
       "<style scoped>\n",
       "    .dataframe tbody tr th:only-of-type {\n",
       "        vertical-align: middle;\n",
       "    }\n",
       "\n",
       "    .dataframe tbody tr th {\n",
       "        vertical-align: top;\n",
       "    }\n",
       "\n",
       "    .dataframe thead th {\n",
       "        text-align: right;\n",
       "    }\n",
       "</style>\n",
       "<table border=\"1\" class=\"dataframe\">\n",
       "  <thead>\n",
       "    <tr style=\"text-align: right;\">\n",
       "      <th></th>\n",
       "      <th>Confirmation code</th>\n",
       "      <th>Status</th>\n",
       "      <th>Guest name</th>\n",
       "      <th>Contact</th>\n",
       "      <th># of adults</th>\n",
       "      <th>Start date</th>\n",
       "      <th>End date</th>\n",
       "      <th># of nights</th>\n",
       "      <th>Booked</th>\n",
       "      <th>Booked_aheadday</th>\n",
       "      <th>Listing</th>\n",
       "      <th>Earnings</th>\n",
       "      <th>review</th>\n",
       "      <th>text</th>\n",
       "      <th>Text_counts</th>\n",
       "      <th>day_of_week_checkin</th>\n",
       "      <th>day_of_week_checkout</th>\n",
       "      <th>book_day_of_week</th>\n",
       "      <th>size</th>\n",
       "    </tr>\n",
       "  </thead>\n",
       "  <tbody>\n",
       "    <tr>\n",
       "      <th>0</th>\n",
       "      <td>HMQM5YMPQC</td>\n",
       "      <td>Confirmed</td>\n",
       "      <td>Lukasz Majewski</td>\n",
       "      <td>'+48 793 641 008</td>\n",
       "      <td>0.090909</td>\n",
       "      <td>2017-12-17</td>\n",
       "      <td>2018-02-28</td>\n",
       "      <td>1.000000</td>\n",
       "      <td>2017-12-04</td>\n",
       "      <td>0.082840</td>\n",
       "      <td>FULLY Furnished Silicon Valley Studio House</td>\n",
       "      <td>8.469139</td>\n",
       "      <td>0.027778</td>\n",
       "      <td>I'm a Tesla contractor and I need a place to s...</td>\n",
       "      <td>0.262411</td>\n",
       "      <td>Sunday</td>\n",
       "      <td>Wednesday</td>\n",
       "      <td>Monday</td>\n",
       "      <td>small</td>\n",
       "    </tr>\n",
       "    <tr>\n",
       "      <th>1</th>\n",
       "      <td>HM33MPJPAH</td>\n",
       "      <td>Confirmed</td>\n",
       "      <td>Betty Tse</td>\n",
       "      <td>'+1 (650) 996-3949</td>\n",
       "      <td>0.090909</td>\n",
       "      <td>2017-12-18</td>\n",
       "      <td>2018-01-01</td>\n",
       "      <td>0.180556</td>\n",
       "      <td>2017-11-14</td>\n",
       "      <td>0.207101</td>\n",
       "      <td>Silicon Valley Entire Clean Modern 2B/2B Apart...</td>\n",
       "      <td>7.708913</td>\n",
       "      <td>0.027778</td>\n",
       "      <td>We would like to know whether you have 2 parki...</td>\n",
       "      <td>0.120567</td>\n",
       "      <td>Monday</td>\n",
       "      <td>Monday</td>\n",
       "      <td>Tuesday</td>\n",
       "      <td>middle</td>\n",
       "    </tr>\n",
       "    <tr>\n",
       "      <th>2</th>\n",
       "      <td>HMTNHF3BTP</td>\n",
       "      <td>Confirmed</td>\n",
       "      <td>Chen-Ying Huang</td>\n",
       "      <td>'+886 911 064 245</td>\n",
       "      <td>0.090909</td>\n",
       "      <td>2018-01-01</td>\n",
       "      <td>2018-01-03</td>\n",
       "      <td>0.013889</td>\n",
       "      <td>2017-12-28</td>\n",
       "      <td>0.029586</td>\n",
       "      <td>Silicon Valley Entire Clean Modern 2B/2B Apart...</td>\n",
       "      <td>5.951033</td>\n",
       "      <td>0.027778</td>\n",
       "      <td>This is Jane from Taiwan. I will go business t...</td>\n",
       "      <td>0.184397</td>\n",
       "      <td>Monday</td>\n",
       "      <td>Wednesday</td>\n",
       "      <td>Thursday</td>\n",
       "      <td>middle</td>\n",
       "    </tr>\n",
       "    <tr>\n",
       "      <th>3</th>\n",
       "      <td>HM34DBFBE4</td>\n",
       "      <td>Confirmed</td>\n",
       "      <td>Jeanie Jones</td>\n",
       "      <td>'+1 (530) 816-9026</td>\n",
       "      <td>0.181818</td>\n",
       "      <td>2018-02-04</td>\n",
       "      <td>2018-02-08</td>\n",
       "      <td>0.041667</td>\n",
       "      <td>2018-02-04</td>\n",
       "      <td>0.005917</td>\n",
       "      <td>Bay area Entire Luxury  1bedroom 1 bathroom</td>\n",
       "      <td>6.364320</td>\n",
       "      <td>0.000000</td>\n",
       "      <td>I am interested in renting your apartment. It ...</td>\n",
       "      <td>0.354610</td>\n",
       "      <td>Sunday</td>\n",
       "      <td>Thursday</td>\n",
       "      <td>Sunday</td>\n",
       "      <td>small</td>\n",
       "    </tr>\n",
       "    <tr>\n",
       "      <th>4</th>\n",
       "      <td>HM4TCEP3KF</td>\n",
       "      <td>Confirmed</td>\n",
       "      <td>Miya Zhao</td>\n",
       "      <td>'+86 186 0061 3291</td>\n",
       "      <td>0.090909</td>\n",
       "      <td>2018-02-10</td>\n",
       "      <td>2018-02-13</td>\n",
       "      <td>0.027778</td>\n",
       "      <td>2018-02-09</td>\n",
       "      <td>0.011834</td>\n",
       "      <td>Bay area Entire Luxury  1bedroom 1 bathroom</td>\n",
       "      <td>6.109492</td>\n",
       "      <td>0.083333</td>\n",
       "      <td>Hi, I’m traveling to Bay Area theses days, I’d...</td>\n",
       "      <td>0.085106</td>\n",
       "      <td>Saturday</td>\n",
       "      <td>Tuesday</td>\n",
       "      <td>Friday</td>\n",
       "      <td>small</td>\n",
       "    </tr>\n",
       "  </tbody>\n",
       "</table>\n",
       "</div>"
      ],
      "text/plain": [
       "  Confirmation code     Status       Guest name             Contact  \\\n",
       "0        HMQM5YMPQC  Confirmed  Lukasz Majewski    '+48 793 641 008   \n",
       "1        HM33MPJPAH  Confirmed        Betty Tse  '+1 (650) 996-3949   \n",
       "2        HMTNHF3BTP  Confirmed  Chen-Ying Huang   '+886 911 064 245   \n",
       "3        HM34DBFBE4  Confirmed     Jeanie Jones  '+1 (530) 816-9026   \n",
       "4        HM4TCEP3KF  Confirmed        Miya Zhao  '+86 186 0061 3291   \n",
       "\n",
       "   # of adults Start date   End date  # of nights     Booked  Booked_aheadday  \\\n",
       "0     0.090909 2017-12-17 2018-02-28     1.000000 2017-12-04         0.082840   \n",
       "1     0.090909 2017-12-18 2018-01-01     0.180556 2017-11-14         0.207101   \n",
       "2     0.090909 2018-01-01 2018-01-03     0.013889 2017-12-28         0.029586   \n",
       "3     0.181818 2018-02-04 2018-02-08     0.041667 2018-02-04         0.005917   \n",
       "4     0.090909 2018-02-10 2018-02-13     0.027778 2018-02-09         0.011834   \n",
       "\n",
       "                                             Listing  Earnings    review  \\\n",
       "0        FULLY Furnished Silicon Valley Studio House  8.469139  0.027778   \n",
       "1  Silicon Valley Entire Clean Modern 2B/2B Apart...  7.708913  0.027778   \n",
       "2  Silicon Valley Entire Clean Modern 2B/2B Apart...  5.951033  0.027778   \n",
       "3        Bay area Entire Luxury  1bedroom 1 bathroom  6.364320  0.000000   \n",
       "4        Bay area Entire Luxury  1bedroom 1 bathroom  6.109492  0.083333   \n",
       "\n",
       "                                                text  Text_counts  \\\n",
       "0  I'm a Tesla contractor and I need a place to s...     0.262411   \n",
       "1  We would like to know whether you have 2 parki...     0.120567   \n",
       "2  This is Jane from Taiwan. I will go business t...     0.184397   \n",
       "3  I am interested in renting your apartment. It ...     0.354610   \n",
       "4  Hi, I’m traveling to Bay Area theses days, I’d...     0.085106   \n",
       "\n",
       "  day_of_week_checkin day_of_week_checkout book_day_of_week    size  \n",
       "0              Sunday            Wednesday           Monday   small  \n",
       "1              Monday               Monday          Tuesday  middle  \n",
       "2              Monday            Wednesday         Thursday  middle  \n",
       "3              Sunday             Thursday           Sunday   small  \n",
       "4            Saturday              Tuesday           Friday   small  "
      ]
     },
     "execution_count": 20,
     "metadata": {},
     "output_type": "execute_result"
    }
   ],
   "source": [
    "features_log_minmax_transform.head()"
   ]
  },
  {
   "cell_type": "markdown",
   "metadata": {},
   "source": [
    "# Implementation: Data Preprocessing"
   ]
  },
  {
   "cell_type": "markdown",
   "metadata": {},
   "source": [
    "*From the table in Exploring the Data above, we can see there are several features for each record that are non-numeric. Typically, learning algorithms expect input to be numeric, which requires that non-numeric features (called categorical variables) be converted. One popular way to convert categorical variables is by using the one-hot encoding scheme. One-hot encoding creates a \"dummy\" variable for each possible category of each non-numeric feature.*"
   ]
  },
  {
   "cell_type": "code",
   "execution_count": 21,
   "metadata": {},
   "outputs": [],
   "source": [
    "# drop some non_useful columns\n",
    "features_log_minmax_transform_clean=features_log_minmax_transform.drop(['Confirmation code','Status','Guest name','Contact','Start date','End date','Booked','Listing','text'],axis=1)"
   ]
  },
  {
   "cell_type": "code",
   "execution_count": 22,
   "metadata": {},
   "outputs": [
    {
     "data": {
      "text/html": [
       "<div>\n",
       "<style scoped>\n",
       "    .dataframe tbody tr th:only-of-type {\n",
       "        vertical-align: middle;\n",
       "    }\n",
       "\n",
       "    .dataframe tbody tr th {\n",
       "        vertical-align: top;\n",
       "    }\n",
       "\n",
       "    .dataframe thead th {\n",
       "        text-align: right;\n",
       "    }\n",
       "</style>\n",
       "<table border=\"1\" class=\"dataframe\">\n",
       "  <thead>\n",
       "    <tr style=\"text-align: right;\">\n",
       "      <th></th>\n",
       "      <th># of adults</th>\n",
       "      <th># of nights</th>\n",
       "      <th>Booked_aheadday</th>\n",
       "      <th>Earnings</th>\n",
       "      <th>review</th>\n",
       "      <th>Text_counts</th>\n",
       "      <th>day_of_week_checkin</th>\n",
       "      <th>day_of_week_checkout</th>\n",
       "      <th>book_day_of_week</th>\n",
       "      <th>size</th>\n",
       "    </tr>\n",
       "  </thead>\n",
       "  <tbody>\n",
       "    <tr>\n",
       "      <th>0</th>\n",
       "      <td>0.090909</td>\n",
       "      <td>1.000000</td>\n",
       "      <td>0.082840</td>\n",
       "      <td>8.469139</td>\n",
       "      <td>0.027778</td>\n",
       "      <td>0.262411</td>\n",
       "      <td>Sunday</td>\n",
       "      <td>Wednesday</td>\n",
       "      <td>Monday</td>\n",
       "      <td>small</td>\n",
       "    </tr>\n",
       "    <tr>\n",
       "      <th>1</th>\n",
       "      <td>0.090909</td>\n",
       "      <td>0.180556</td>\n",
       "      <td>0.207101</td>\n",
       "      <td>7.708913</td>\n",
       "      <td>0.027778</td>\n",
       "      <td>0.120567</td>\n",
       "      <td>Monday</td>\n",
       "      <td>Monday</td>\n",
       "      <td>Tuesday</td>\n",
       "      <td>middle</td>\n",
       "    </tr>\n",
       "    <tr>\n",
       "      <th>2</th>\n",
       "      <td>0.090909</td>\n",
       "      <td>0.013889</td>\n",
       "      <td>0.029586</td>\n",
       "      <td>5.951033</td>\n",
       "      <td>0.027778</td>\n",
       "      <td>0.184397</td>\n",
       "      <td>Monday</td>\n",
       "      <td>Wednesday</td>\n",
       "      <td>Thursday</td>\n",
       "      <td>middle</td>\n",
       "    </tr>\n",
       "    <tr>\n",
       "      <th>3</th>\n",
       "      <td>0.181818</td>\n",
       "      <td>0.041667</td>\n",
       "      <td>0.005917</td>\n",
       "      <td>6.364320</td>\n",
       "      <td>0.000000</td>\n",
       "      <td>0.354610</td>\n",
       "      <td>Sunday</td>\n",
       "      <td>Thursday</td>\n",
       "      <td>Sunday</td>\n",
       "      <td>small</td>\n",
       "    </tr>\n",
       "    <tr>\n",
       "      <th>4</th>\n",
       "      <td>0.090909</td>\n",
       "      <td>0.027778</td>\n",
       "      <td>0.011834</td>\n",
       "      <td>6.109492</td>\n",
       "      <td>0.083333</td>\n",
       "      <td>0.085106</td>\n",
       "      <td>Saturday</td>\n",
       "      <td>Tuesday</td>\n",
       "      <td>Friday</td>\n",
       "      <td>small</td>\n",
       "    </tr>\n",
       "  </tbody>\n",
       "</table>\n",
       "</div>"
      ],
      "text/plain": [
       "   # of adults  # of nights  Booked_aheadday  Earnings    review  Text_counts  \\\n",
       "0     0.090909     1.000000         0.082840  8.469139  0.027778     0.262411   \n",
       "1     0.090909     0.180556         0.207101  7.708913  0.027778     0.120567   \n",
       "2     0.090909     0.013889         0.029586  5.951033  0.027778     0.184397   \n",
       "3     0.181818     0.041667         0.005917  6.364320  0.000000     0.354610   \n",
       "4     0.090909     0.027778         0.011834  6.109492  0.083333     0.085106   \n",
       "\n",
       "  day_of_week_checkin day_of_week_checkout book_day_of_week    size  \n",
       "0              Sunday            Wednesday           Monday   small  \n",
       "1              Monday               Monday          Tuesday  middle  \n",
       "2              Monday            Wednesday         Thursday  middle  \n",
       "3              Sunday             Thursday           Sunday   small  \n",
       "4            Saturday              Tuesday           Friday   small  "
      ]
     },
     "execution_count": 22,
     "metadata": {},
     "output_type": "execute_result"
    }
   ],
   "source": [
    "features_log_minmax_transform_clean.head()"
   ]
  },
  {
   "cell_type": "code",
   "execution_count": 23,
   "metadata": {},
   "outputs": [],
   "source": [
    " # One-hot encode the 'features_log_minmax_transform_clean' data using pandas.get_dummies()\n",
    "features_final = pd.get_dummies(features_log_minmax_transform_clean)"
   ]
  },
  {
   "cell_type": "code",
   "execution_count": 26,
   "metadata": {},
   "outputs": [
    {
     "data": {
      "text/html": [
       "<div>\n",
       "<style scoped>\n",
       "    .dataframe tbody tr th:only-of-type {\n",
       "        vertical-align: middle;\n",
       "    }\n",
       "\n",
       "    .dataframe tbody tr th {\n",
       "        vertical-align: top;\n",
       "    }\n",
       "\n",
       "    .dataframe thead th {\n",
       "        text-align: right;\n",
       "    }\n",
       "</style>\n",
       "<table border=\"1\" class=\"dataframe\">\n",
       "  <thead>\n",
       "    <tr style=\"text-align: right;\">\n",
       "      <th></th>\n",
       "      <th># of adults</th>\n",
       "      <th># of nights</th>\n",
       "      <th>Booked_aheadday</th>\n",
       "      <th>Earnings</th>\n",
       "      <th>review</th>\n",
       "      <th>Text_counts</th>\n",
       "      <th>day_of_week_checkin_Friday</th>\n",
       "      <th>day_of_week_checkin_Monday</th>\n",
       "      <th>day_of_week_checkin_Saturday</th>\n",
       "      <th>day_of_week_checkin_Sunday</th>\n",
       "      <th>...</th>\n",
       "      <th>book_day_of_week_Friday</th>\n",
       "      <th>book_day_of_week_Monday</th>\n",
       "      <th>book_day_of_week_Saturday</th>\n",
       "      <th>book_day_of_week_Sunday</th>\n",
       "      <th>book_day_of_week_Thursday</th>\n",
       "      <th>book_day_of_week_Tuesday</th>\n",
       "      <th>book_day_of_week_Wednesday</th>\n",
       "      <th>size_large</th>\n",
       "      <th>size_middle</th>\n",
       "      <th>size_small</th>\n",
       "    </tr>\n",
       "  </thead>\n",
       "  <tbody>\n",
       "    <tr>\n",
       "      <th>0</th>\n",
       "      <td>0.090909</td>\n",
       "      <td>1.000000</td>\n",
       "      <td>0.082840</td>\n",
       "      <td>8.469139</td>\n",
       "      <td>0.027778</td>\n",
       "      <td>0.262411</td>\n",
       "      <td>0</td>\n",
       "      <td>0</td>\n",
       "      <td>0</td>\n",
       "      <td>1</td>\n",
       "      <td>...</td>\n",
       "      <td>0</td>\n",
       "      <td>1</td>\n",
       "      <td>0</td>\n",
       "      <td>0</td>\n",
       "      <td>0</td>\n",
       "      <td>0</td>\n",
       "      <td>0</td>\n",
       "      <td>0</td>\n",
       "      <td>0</td>\n",
       "      <td>1</td>\n",
       "    </tr>\n",
       "    <tr>\n",
       "      <th>1</th>\n",
       "      <td>0.090909</td>\n",
       "      <td>0.180556</td>\n",
       "      <td>0.207101</td>\n",
       "      <td>7.708913</td>\n",
       "      <td>0.027778</td>\n",
       "      <td>0.120567</td>\n",
       "      <td>0</td>\n",
       "      <td>1</td>\n",
       "      <td>0</td>\n",
       "      <td>0</td>\n",
       "      <td>...</td>\n",
       "      <td>0</td>\n",
       "      <td>0</td>\n",
       "      <td>0</td>\n",
       "      <td>0</td>\n",
       "      <td>0</td>\n",
       "      <td>1</td>\n",
       "      <td>0</td>\n",
       "      <td>0</td>\n",
       "      <td>1</td>\n",
       "      <td>0</td>\n",
       "    </tr>\n",
       "    <tr>\n",
       "      <th>2</th>\n",
       "      <td>0.090909</td>\n",
       "      <td>0.013889</td>\n",
       "      <td>0.029586</td>\n",
       "      <td>5.951033</td>\n",
       "      <td>0.027778</td>\n",
       "      <td>0.184397</td>\n",
       "      <td>0</td>\n",
       "      <td>1</td>\n",
       "      <td>0</td>\n",
       "      <td>0</td>\n",
       "      <td>...</td>\n",
       "      <td>0</td>\n",
       "      <td>0</td>\n",
       "      <td>0</td>\n",
       "      <td>0</td>\n",
       "      <td>1</td>\n",
       "      <td>0</td>\n",
       "      <td>0</td>\n",
       "      <td>0</td>\n",
       "      <td>1</td>\n",
       "      <td>0</td>\n",
       "    </tr>\n",
       "    <tr>\n",
       "      <th>3</th>\n",
       "      <td>0.181818</td>\n",
       "      <td>0.041667</td>\n",
       "      <td>0.005917</td>\n",
       "      <td>6.364320</td>\n",
       "      <td>0.000000</td>\n",
       "      <td>0.354610</td>\n",
       "      <td>0</td>\n",
       "      <td>0</td>\n",
       "      <td>0</td>\n",
       "      <td>1</td>\n",
       "      <td>...</td>\n",
       "      <td>0</td>\n",
       "      <td>0</td>\n",
       "      <td>0</td>\n",
       "      <td>1</td>\n",
       "      <td>0</td>\n",
       "      <td>0</td>\n",
       "      <td>0</td>\n",
       "      <td>0</td>\n",
       "      <td>0</td>\n",
       "      <td>1</td>\n",
       "    </tr>\n",
       "    <tr>\n",
       "      <th>4</th>\n",
       "      <td>0.090909</td>\n",
       "      <td>0.027778</td>\n",
       "      <td>0.011834</td>\n",
       "      <td>6.109492</td>\n",
       "      <td>0.083333</td>\n",
       "      <td>0.085106</td>\n",
       "      <td>0</td>\n",
       "      <td>0</td>\n",
       "      <td>1</td>\n",
       "      <td>0</td>\n",
       "      <td>...</td>\n",
       "      <td>1</td>\n",
       "      <td>0</td>\n",
       "      <td>0</td>\n",
       "      <td>0</td>\n",
       "      <td>0</td>\n",
       "      <td>0</td>\n",
       "      <td>0</td>\n",
       "      <td>0</td>\n",
       "      <td>0</td>\n",
       "      <td>1</td>\n",
       "    </tr>\n",
       "  </tbody>\n",
       "</table>\n",
       "<p>5 rows × 30 columns</p>\n",
       "</div>"
      ],
      "text/plain": [
       "   # of adults  # of nights  Booked_aheadday  Earnings    review  Text_counts  \\\n",
       "0     0.090909     1.000000         0.082840  8.469139  0.027778     0.262411   \n",
       "1     0.090909     0.180556         0.207101  7.708913  0.027778     0.120567   \n",
       "2     0.090909     0.013889         0.029586  5.951033  0.027778     0.184397   \n",
       "3     0.181818     0.041667         0.005917  6.364320  0.000000     0.354610   \n",
       "4     0.090909     0.027778         0.011834  6.109492  0.083333     0.085106   \n",
       "\n",
       "   day_of_week_checkin_Friday  day_of_week_checkin_Monday  \\\n",
       "0                           0                           0   \n",
       "1                           0                           1   \n",
       "2                           0                           1   \n",
       "3                           0                           0   \n",
       "4                           0                           0   \n",
       "\n",
       "   day_of_week_checkin_Saturday  day_of_week_checkin_Sunday     ...      \\\n",
       "0                             0                           1     ...       \n",
       "1                             0                           0     ...       \n",
       "2                             0                           0     ...       \n",
       "3                             0                           1     ...       \n",
       "4                             1                           0     ...       \n",
       "\n",
       "   book_day_of_week_Friday  book_day_of_week_Monday  \\\n",
       "0                        0                        1   \n",
       "1                        0                        0   \n",
       "2                        0                        0   \n",
       "3                        0                        0   \n",
       "4                        1                        0   \n",
       "\n",
       "   book_day_of_week_Saturday  book_day_of_week_Sunday  \\\n",
       "0                          0                        0   \n",
       "1                          0                        0   \n",
       "2                          0                        0   \n",
       "3                          0                        1   \n",
       "4                          0                        0   \n",
       "\n",
       "   book_day_of_week_Thursday  book_day_of_week_Tuesday  \\\n",
       "0                          0                         0   \n",
       "1                          0                         1   \n",
       "2                          1                         0   \n",
       "3                          0                         0   \n",
       "4                          0                         0   \n",
       "\n",
       "   book_day_of_week_Wednesday  size_large  size_middle  size_small  \n",
       "0                           0           0            0           1  \n",
       "1                           0           0            1           0  \n",
       "2                           0           0            1           0  \n",
       "3                           0           0            0           1  \n",
       "4                           0           0            0           1  \n",
       "\n",
       "[5 rows x 30 columns]"
      ]
     },
     "execution_count": 26,
     "metadata": {},
     "output_type": "execute_result"
    }
   ],
   "source": [
    "features_final.head()"
   ]
  },
  {
   "cell_type": "code",
   "execution_count": 140,
   "metadata": {},
   "outputs": [],
   "source": [
    "#try test\n",
    "features_final_1=features_final.drop('Text_counts',axis=1)\n"
   ]
  },
  {
   "cell_type": "code",
   "execution_count": 27,
   "metadata": {},
   "outputs": [
    {
     "name": "stdout",
     "output_type": "stream",
     "text": [
      "30 total features after one-hot encoding.\n"
     ]
    }
   ],
   "source": [
    "# Print the number of features after one-hot encoding\n",
    "encoded = list(features_final.columns)\n",
    "print(\"{} total features after one-hot encoding.\".format(len(encoded)))"
   ]
  },
  {
   "cell_type": "markdown",
   "metadata": {},
   "source": [
    "## Shuffle and Split Data"
   ]
  },
  {
   "cell_type": "code",
   "execution_count": 151,
   "metadata": {},
   "outputs": [
    {
     "name": "stdout",
     "output_type": "stream",
     "text": [
      "Training set has 289 samples.\n",
      "Testing set has 73 samples.\n"
     ]
    }
   ],
   "source": [
    "# Import train_test_split\n",
    "from sklearn.cross_validation import train_test_split\n",
    "\n",
    "# Split the 'features' and 'income' data into training and testing sets\n",
    "X_train, X_test, y_train, y_test = train_test_split(features_final, \n",
    "                                                    target, \n",
    "                                                    test_size = 0.2, \n",
    "                                                    random_state = 121)\n",
    "\n",
    "# Show the results of the split\n",
    "print(\"Training set has {} samples.\".format(X_train.shape[0]))\n",
    "print(\"Testing set has {} samples.\".format(X_test.shape[0]))"
   ]
  },
  {
   "cell_type": "markdown",
   "metadata": {},
   "source": [
    "*we will be using F 0.5  score since we are willing to tell the proportion of bad guests, actually were bad.*"
   ]
  },
  {
   "cell_type": "markdown",
   "metadata": {},
   "source": [
    "## Supervised Learning Models"
   ]
  },
  {
   "cell_type": "markdown",
   "metadata": {},
   "source": [
    "# I use AdaBoost model in this case to see the performance.\n",
    "\n",
    "*AdaBoost*"
   ]
  },
  {
   "cell_type": "code",
   "execution_count": 287,
   "metadata": {},
   "outputs": [],
   "source": [
    "# created a train_predict function, so you can play around with other models to see the performance\n",
    "from time import time\n",
    "from sklearn.metrics import fbeta_score, accuracy_score\n",
    "\n",
    "def train_predict(learner,X_train, y_train, X_test, y_test): \n",
    "    '''\n",
    "    inputs:\n",
    "       - learner: the learning algorithm to be trained and predicted on\n",
    "       - sample_size: the size of samples (number) to be drawn from training set\n",
    "       - X_train: features training set\n",
    "       - y_train: target training set\n",
    "       - X_test: features testing set\n",
    "       - y_test: target testing set\n",
    "    '''\n",
    "    \n",
    "    results = {}\n",
    "    \n",
    "    # Fit the learner to the training data \n",
    "    start = time() # Get start time\n",
    "    learner.fit(X_train,y_train)\n",
    "    end = time() # Get end time\n",
    "    \n",
    "    # Calculate the training time\n",
    "    results['train_time'] = end-start\n",
    "        \n",
    "    # Get the predictions on the test set(X_test),\n",
    "    start = time() # Get start time\n",
    "    predictions_test = learner.predict(X_test)\n",
    "    predictions_train = learner.predict(X_train)\n",
    "    end = time() # Get end time\n",
    "    \n",
    "    # Calculate the total prediction time\n",
    "    results['pred_time'] = end-start\n",
    "            \n",
    "    # Compute accuracy on the training \n",
    "    results['acc_train'] = accuracy_score(y_train,predictions_train)\n",
    "        \n",
    "    # Compute accuracy on test set using accuracy_score()\n",
    "    results['acc_test'] = accuracy_score(y_test,predictions_test)\n",
    "    \n",
    "    # Compute F-score on the train using fbeta_score()\n",
    "    results['f_train'] = fbeta_score(y_train,predictions_train,beta=0.5)\n",
    "        \n",
    "    # Compute F-score on the test set which is y_test\n",
    "    results['f_test'] = fbeta_score(y_test,predictions_test,beta=0.5)\n",
    "    # Return the results    \n",
    "    return results"
   ]
  },
  {
   "cell_type": "markdown",
   "metadata": {},
   "source": [
    "## Implementation: Initial Model Evaluation"
   ]
  },
  {
   "cell_type": "code",
   "execution_count": 289,
   "metadata": {},
   "outputs": [],
   "source": [
    "# Import the learning model from sklearn\n",
    "from sklearn.ensemble import AdaBoostClassifier\n"
   ]
  },
  {
   "cell_type": "code",
   "execution_count": 290,
   "metadata": {},
   "outputs": [],
   "source": [
    "# Initialize the models\n",
    "clf_C = AdaBoostClassifier(random_state = 46,learning_rate= 1)\n"
   ]
  },
  {
   "cell_type": "code",
   "execution_count": 291,
   "metadata": {},
   "outputs": [
    {
     "data": {
      "text/plain": [
       "AdaBoostClassifier(algorithm='SAMME.R', base_estimator=None, learning_rate=1,\n",
       "          n_estimators=50, random_state=46)"
      ]
     },
     "execution_count": 291,
     "metadata": {},
     "output_type": "execute_result"
    }
   ],
   "source": [
    "# check the model parameters by defa\n",
    "clf_C"
   ]
  },
  {
   "cell_type": "code",
   "execution_count": 292,
   "metadata": {},
   "outputs": [
    {
     "data": {
      "text/plain": [
       "{'train_time': 0.12399911880493164,\n",
       " 'pred_time': 0.014383554458618164,\n",
       " 'acc_train': 0.9584775086505191,\n",
       " 'acc_test': 0.9178082191780822,\n",
       " 'f_train': 0.8421052631578948,\n",
       " 'f_test': 0.25}"
      ]
     },
     "execution_count": 292,
     "metadata": {},
     "output_type": "execute_result"
    }
   ],
   "source": [
    "train_predict(clf_C,X_train, y_train, X_test, y_test,)"
   ]
  },
  {
   "cell_type": "markdown",
   "metadata": {},
   "source": [
    "*Accuracy score for train and test is 0.95 and 0.91, so there is no overfitting or underfitting problem*"
   ]
  },
  {
   "cell_type": "code",
   "execution_count": 296,
   "metadata": {},
   "outputs": [],
   "source": [
    "# Import 'GridSearchCV', 'make_scorer', and any other necessary libraries\n",
    "from sklearn.grid_search import GridSearchCV\n",
    "from sklearn.metrics import make_scorer\n",
    "# Initialize the classifier\n",
    "clf = AdaBoostClassifier(base_estimator =DecisionTreeClassifier())\n",
    "\n",
    "# Create the parameters list you wish to tune, using a dictionary if needed.\n",
    "\n",
    "parameters = {'algorithm':['SAMME.R','SAMME'],'n_estimators':[50,100,150,200,250],'learning_rate':[0.8,1,1.2,1.5]}"
   ]
  },
  {
   "cell_type": "code",
   "execution_count": 297,
   "metadata": {},
   "outputs": [
    {
     "name": "stdout",
     "output_type": "stream",
     "text": [
      "Final accuracy score on the testing data: 0.9452\n"
     ]
    }
   ],
   "source": [
    "# Make an fbeta_score scoring object using make_scorer()\n",
    "scorer = make_scorer(fbeta_score,beta=0.5)\n",
    "\n",
    "# Perform grid search on the classifier using 'scorer' as the scoring method using GridSearchCV()\n",
    "grid_obj = GridSearchCV(clf,parameters,scoring=scorer)\n",
    "\n",
    "# Fit the grid search object to the training data and find the optimal parameters using fit()\n",
    "grid_fit =grid_obj.fit(X_train,y_train)\n",
    "\n",
    "# Get the estimator\n",
    "best_clf = grid_fit.best_estimator_\n",
    "\n",
    "# Report the before-and-afterscores\n",
    "\n",
    "\n",
    "print(\"Final accuracy score on the testing data: {:.4f}\".format(accuracy_score(y_test, best_predictions)))\n"
   ]
  },
  {
   "cell_type": "markdown",
   "metadata": {},
   "source": [
    "*The final accuracy score on the testing data increased 3% to 94.5% accuracy score*"
   ]
  },
  {
   "cell_type": "code",
   "execution_count": 284,
   "metadata": {},
   "outputs": [
    {
     "name": "stdout",
     "output_type": "stream",
     "text": [
      "AdaBoostClassifier(algorithm='SAMME.R',\n",
      "          base_estimator=DecisionTreeClassifier(class_weight=None, criterion='gini', max_depth=None,\n",
      "            max_features=None, max_leaf_nodes=None,\n",
      "            min_impurity_decrease=0.0, min_impurity_split=None,\n",
      "            min_samples_leaf=1, min_samples_split=2,\n",
      "            min_weight_fraction_leaf=0.0, presort=False, random_state=None,\n",
      "            splitter='best'),\n",
      "          learning_rate=1, n_estimators=50, random_state=None)\n"
     ]
    }
   ],
   "source": [
    "print(best_clf)"
   ]
  },
  {
   "cell_type": "code",
   "execution_count": 198,
   "metadata": {},
   "outputs": [],
   "source": [
    "# Train the supervised model on the training set using .fit(X_train, y_train)\n",
    "model = AdaBoostClassifier().fit(X_train,y_train)\n",
    "\n",
    "# Extract the feature importances using .feature_importances_ \n",
    "importances = model.feature_importances_"
   ]
  },
  {
   "cell_type": "code",
   "execution_count": 199,
   "metadata": {},
   "outputs": [
    {
     "data": {
      "text/plain": [
       "array([0.06, 0.02, 0.14, 0.44, 0.06, 0.14, 0.  , 0.  , 0.02, 0.04, 0.  ,\n",
       "       0.  , 0.  , 0.  , 0.02, 0.  , 0.  , 0.  , 0.  , 0.  , 0.02, 0.  ,\n",
       "       0.02, 0.  , 0.  , 0.  , 0.  , 0.  , 0.  , 0.02])"
      ]
     },
     "execution_count": 199,
     "metadata": {},
     "output_type": "execute_result"
    }
   ],
   "source": [
    "importances"
   ]
  },
  {
   "cell_type": "markdown",
   "metadata": {},
   "source": [
    "*The import features in predicting good or bad guests are  'Earnings','Booked_aheadday','Text_count', '# of review'*"
   ]
  },
  {
   "cell_type": "markdown",
   "metadata": {},
   "source": [
    "# Inclusion"
   ]
  },
  {
   "cell_type": "markdown",
   "metadata": {},
   "source": [
    "*The more earnings on a signel payment, the more good guests you will expect. The more days ahead that guests make the resevation, the more show the guests are planned. The more greeting words that the guests sent at the beginning, the higher probability this group is good.*"
   ]
  },
  {
   "cell_type": "code",
   "execution_count": null,
   "metadata": {},
   "outputs": [],
   "source": []
  }
 ],
 "metadata": {
  "kernelspec": {
   "display_name": "Python 3",
   "language": "python",
   "name": "python3"
  },
  "language_info": {
   "codemirror_mode": {
    "name": "ipython",
    "version": 3
   },
   "file_extension": ".py",
   "mimetype": "text/x-python",
   "name": "python",
   "nbconvert_exporter": "python",
   "pygments_lexer": "ipython3",
   "version": "3.6.5"
  }
 },
 "nbformat": 4,
 "nbformat_minor": 2
}
